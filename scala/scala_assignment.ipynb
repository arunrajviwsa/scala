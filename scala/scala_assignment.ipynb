{
 "cells": [
  {
   "cell_type": "code",
   "execution_count": 2,
   "id": "068e1045-885b-4f39-872d-cead2c3001c6",
   "metadata": {},
   "outputs": [
    {
     "name": "stdout",
     "output_type": "stream",
     "text": [
      "1\n",
      "2\n",
      "3\n",
      "4\n",
      "5\n",
      "6\n",
      "7\n",
      "8\n",
      "9\n",
      "10\n"
     ]
    },
    {
     "data": {
      "text/plain": [
       "arr: Array[Int] = Array(1, 2, 3, 4, 5, 6, 7, 8, 9, 10)\r\n"
      ]
     },
     "execution_count": 2,
     "metadata": {},
     "output_type": "execute_result"
    }
   ],
   "source": [
    "\n",
    "\n",
    "//1.a.Create an array of integers with 10 elements.\n",
    "val arr = Array(1, 2, 3, 4, 5, 6, 7, 8, 9, 10)\n",
    "\n",
    "// Print the array\n",
    "arr.foreach(println)\n",
    "\n"
   ]
  },
  {
   "cell_type": "code",
   "execution_count": 6,
   "id": "4df75815-6b54-4558-beb2-af0e4cad8554",
   "metadata": {},
   "outputs": [
    {
     "name": "stdout",
     "output_type": "stream",
     "text": [
      "Sum: 55\n",
      "Average: 5.5\n"
     ]
    },
    {
     "data": {
      "text/plain": [
       "arr: Array[Int] = Array(1, 2, 3, 4, 5, 6, 7, 8, 9, 10)\r\n",
       "sum: Int = 55\r\n",
       "average: Double = 5.5\r\n"
      ]
     },
     "execution_count": 6,
     "metadata": {},
     "output_type": "execute_result"
    }
   ],
   "source": [
    "//1.b.Scala program that calculates the sum and average of all elements in an array:\n",
    "\n",
    "    // Define the array\n",
    "    val arr = Array(1, 2, 3, 4, 5, 6, 7, 8, 9, 10)\n",
    "    \n",
    "    // Calculate the sum of all elements in the array\n",
    "    val sum = arr.sum\n",
    "    \n",
    "    // Calculate the average of the elements\n",
    "    val average = sum.toDouble / arr.length\n",
    "    \n",
    "    // Print the results\n",
    "    println(s\"Sum: $sum\")\n",
    "    println(s\"Average: $average\")\n",
    " \n"
   ]
  },
  {
   "cell_type": "code",
   "execution_count": 7,
   "id": "1f85c431-d82a-495d-b879-e66f3f9d9cb7",
   "metadata": {},
   "outputs": [
    {
     "name": "stdout",
     "output_type": "stream",
     "text": [
      "Modified Array: 2, 4, 6, 8, 10, 12, 14, 16, 18, 20\n"
     ]
    },
    {
     "data": {
      "text/plain": [
       "arr: Array[Int] = Array(1, 2, 3, 4, 5, 6, 7, 8, 9, 10)\r\n",
       "modifiedArr: Array[Int] = Array(2, 4, 6, 8, 10, 12, 14, 16, 18, 20)\r\n"
      ]
     },
     "execution_count": 7,
     "metadata": {},
     "output_type": "execute_result"
    }
   ],
   "source": [
    "//1.c.Modify the array by multiplying each element by 2.\n",
    "// Define the array\n",
    "    val arr = Array(1, 2, 3, 4, 5, 6, 7, 8, 9, 10)\n",
    "    \n",
    "    // Multiply each element by 2\n",
    "    val modifiedArr = arr.map(_ * 2)\n",
    "    \n",
    "    // Print the modified array\n",
    "    println(\"Modified Array: \" + modifiedArr.mkString(\", \"))"
   ]
  },
  {
   "cell_type": "code",
   "execution_count": 8,
   "id": "23b21995-c296-425a-9f3e-b9cfd494b3b1",
   "metadata": {},
   "outputs": [
    {
     "name": "stdout",
     "output_type": "stream",
     "text": [
      "Reversed Array: 10, 9, 8, 7, 6, 5, 4, 3, 2, 1\n"
     ]
    },
    {
     "data": {
      "text/plain": [
       "arr: Array[Int] = Array(1, 2, 3, 4, 5, 6, 7, 8, 9, 10)\r\n",
       "reversedArr: Array[Int] = Array(10, 9, 8, 7, 6, 5, 4, 3, 2, 1)\r\n"
      ]
     },
     "execution_count": 8,
     "metadata": {},
     "output_type": "execute_result"
    }
   ],
   "source": [
    "//2. Array Manipulation:\n",
    "//- Write a program to reverse the given array.\n",
    "// Define the array\n",
    "    val arr = Array(1, 2, 3, 4, 5, 6, 7, 8, 9, 10)\n",
    "    \n",
    "    // Reverse the array\n",
    "    val reversedArr = arr.reverse\n",
    "    \n",
    "    // Print the reversed array\n",
    "    println(\"Reversed Array: \" + reversedArr.mkString(\", \"))"
   ]
  },
  {
   "cell_type": "code",
   "execution_count": 9,
   "id": "b416ad6e-c4e6-427e-9ed2-ad70f915be1c",
   "metadata": {},
   "outputs": [
    {
     "name": "stdout",
     "output_type": "stream",
     "text": [
      "Maximum Element: 10\n",
      "Minimum Element: 1\n"
     ]
    },
    {
     "data": {
      "text/plain": [
       "arr: Array[Int] = Array(1, 2, 3, 4, 5, 6, 7, 8, 9, 10)\r\n",
       "maxElement: Int = 10\r\n",
       "minElement: Int = 1\r\n"
      ]
     },
     "execution_count": 9,
     "metadata": {},
     "output_type": "execute_result"
    }
   ],
   "source": [
    "//2.b.Find the maximum and minimum elements in the array.\n",
    "// Define the array\n",
    "    val arr = Array(1, 2, 3, 4, 5, 6, 7, 8, 9, 10)\n",
    "    \n",
    "    // Find the maximum element\n",
    "    val maxElement = arr.max\n",
    "    \n",
    "    // Find the minimum element\n",
    "    val minElement = arr.min\n",
    "    \n",
    "    // Print the results\n",
    "    println(s\"Maximum Element: $maxElement\")\n",
    "    println(s\"Minimum Element: $minElement\")"
   ]
  },
  {
   "cell_type": "code",
   "execution_count": 10,
   "id": "7cf99544-b57c-41c6-a067-713bd7b374af",
   "metadata": {},
   "outputs": [
    {
     "name": "stdout",
     "output_type": "stream",
     "text": [
      "List: 1, 2, 3, 4, 5, 6, 7, 8, 9, 10\n"
     ]
    },
    {
     "data": {
      "text/plain": [
       "list: List[Int] = List(1, 2, 3, 4, 5, 6, 7, 8, 9, 10)\r\n"
      ]
     },
     "execution_count": 10,
     "metadata": {},
     "output_type": "execute_result"
    }
   ],
   "source": [
    "//1. Lists:\n",
    "//- Create a list of integers from 1 to 10.\n",
    "// Create a list of integers from 1 to 10\n",
    "    val list = List(1, 2, 3, 4, 5, 6, 7, 8, 9, 10)\n",
    "    \n",
    "    // Print the list\n",
    "    println(\"List: \" + list.mkString(\", \"))"
   ]
  },
  {
   "cell_type": "code",
   "execution_count": 11,
   "id": "2efe969a-65d5-44be-8ef1-618ddefa6a95",
   "metadata": {},
   "outputs": [
    {
     "name": "stdout",
     "output_type": "stream",
     "text": [
      "Even Numbers: 2, 4, 6, 8, 10\n"
     ]
    },
    {
     "data": {
      "text/plain": [
       "list: List[Int] = List(1, 2, 3, 4, 5, 6, 7, 8, 9, 10)\r\n",
       "evenNumbers: List[Int] = List(2, 4, 6, 8, 10)\r\n"
      ]
     },
     "execution_count": 11,
     "metadata": {},
     "output_type": "execute_result"
    }
   ],
   "source": [
    "\n",
    "//- Filter the list to keep only even numbers.\n",
    "// Create a list of integers from 1 to 10\n",
    "    val list = List(1, 2, 3, 4, 5, 6, 7, 8, 9, 10)\n",
    "    \n",
    "    // Filter the list to keep only even numbers\n",
    "    val evenNumbers = list.filter(_ % 2 == 0)\n",
    "    \n",
    "    // Print the filtered list\n",
    "    println(\"Even Numbers: \" + evenNumbers.mkString(\", \"))"
   ]
  },
  {
   "cell_type": "code",
   "execution_count": 12,
   "id": "e309a693-8baf-4e7c-b786-389bb5d9c34e",
   "metadata": {},
   "outputs": [
    {
     "name": "stdout",
     "output_type": "stream",
     "text": [
      "Sum of Even Numbers: 30\n"
     ]
    },
    {
     "data": {
      "text/plain": [
       "list: List[Int] = List(1, 2, 3, 4, 5, 6, 7, 8, 9, 10)\r\n",
       "evenNumbers: List[Int] = List(2, 4, 6, 8, 10)\r\n",
       "sumOfEvenNumbers: Int = 30\r\n"
      ]
     },
     "execution_count": 12,
     "metadata": {},
     "output_type": "execute_result"
    }
   ],
   "source": [
    "//Find the sum of all elements in the filtered list.\n",
    "\n",
    "// Create a list of integers from 1 to 10\n",
    "    val list = List(1, 2, 3, 4, 5, 6, 7, 8, 9, 10)\n",
    "    \n",
    "    // Filter the list to keep only even numbers\n",
    "    val evenNumbers = list.filter(_ % 2 == 0)\n",
    "    \n",
    "    // Find the sum of all elements in the filtered list\n",
    "    val sumOfEvenNumbers = evenNumbers.sum\n",
    "    \n",
    "    // Print the sum\n",
    "    println(s\"Sum of Even Numbers: $sumOfEvenNumbers\")"
   ]
  },
  {
   "cell_type": "code",
   "execution_count": 23,
   "id": "9f25f5ad-8e4f-407c-a669-7c8c5a324fdf",
   "metadata": {},
   "outputs": [
    {
     "name": "stdout",
     "output_type": "stream",
     "text": [
      "Peek: 30\n",
      "Pop: 30\n",
      "Pop: 20\n",
      "Peek: 10\n",
      "Is the stack empty? false\n",
      "Size: ()\n"
     ]
    },
    {
     "data": {
      "text/plain": [
       "defined class Stack\r\n",
       "stack: Stack[Int] = Stack@35512876\r\n"
      ]
     },
     "execution_count": 23,
     "metadata": {},
     "output_type": "execute_result"
    }
   ],
   "source": [
    "//2. Implement a generic stack data structure using Scala collections (like `List`) and provide\n",
    "//basic push, pop, and peek functionalities.\n",
    "\n",
    "class Stack[A] {\n",
    "  // Use a List to store the elements of the stack\n",
    " var elements: List[A] = Nil\n",
    "  \n",
    "  // Push an element onto the stack\n",
    "  def push(item: A): Unit = {\n",
    "    elements = item :: elements\n",
    "  }\n",
    "  \n",
    "  // Pop an element from the stack (removes and returns the top element)\n",
    "  def pop(): Option[A] = {\n",
    "    elements match {\n",
    "      case Nil => None              \n",
    "      case head :: tail =>          \n",
    "        elements = tail\n",
    "        Some(head)\n",
    "    }\n",
    "  }\n",
    "  \n",
    "  // Peek at the top element without removing it\n",
    "  def peek(): Option[A] = {\n",
    "    elements.headOption\n",
    "  }\n",
    "  \n",
    "  // Check if the stack is empty\n",
    "  def isEmpty: Boolean = elements.isEmpty\n",
    "  \n",
    "  // Get the size of the stack\n",
    "  def size: Int = elements.size\n",
    "}\n",
    "\n",
    "    val stack = new Stack[Int]\n",
    "    \n",
    "    // Push elements onto the stack\n",
    "    stack.push(10)\n",
    "    stack.push(20)\n",
    "    stack.push(30)\n",
    "    \n",
    "    // Peek at the top element\n",
    "    println(s\"Peek: ${stack.peek().getOrElse(\"Stack is empty\")}\") // Output: 30\n",
    "    \n",
    "    // Pop elements from the stack\n",
    "    println(s\"Pop: ${stack.pop().getOrElse(\"Stack is empty\")}\") // Output: 30\n",
    "    println(s\"Pop: ${stack.pop().getOrElse(\"Stack is empty\")}\") // Output: 20\n",
    "    \n",
    "    // Peek again after popping\n",
    "    println(s\"Peek: ${stack.peek().getOrElse(\"Stack is empty\")}\") // Output: 10\n",
    "    \n",
    "    // Check if the stack is empty\n",
    "    println(s\"Is the stack empty? ${stack.isEmpty}\") // Output: false\n",
    "    \n",
    "    // Get the size of the stack\n",
    "    println(s\"Size: ${stack.size}\") // Output: 1\n",
    " "
   ]
  },
  {
   "cell_type": "code",
   "execution_count": 16,
   "id": "35899536-fcfc-4e41-8fca-53bd07f492f0",
   "metadata": {},
   "outputs": [
    {
     "name": "stdout",
     "output_type": "stream",
     "text": [
      "The capital of France is Paris.\n"
     ]
    },
    {
     "data": {
      "text/plain": [
       "countryCapitalMap: scala.collection.immutable.Map[String,String] = Map(USA -> Washington, D.C., Japan -> Tokyo, Italy -> Rome, France -> Paris, Germany -> Berlin)\r\n",
       "countryToCheck: String = France\r\n"
      ]
     },
     "execution_count": 16,
     "metadata": {},
     "output_type": "execute_result"
    }
   ],
   "source": [
    "//3. Maps:\n",
    "//- Create a Map to store 5 country-capital pairs.\n",
    "//- Write a program to check if a given key (country) exists in the map.\n",
    "//- If the country exists, print its capital.\n",
    "    // Create a Map to store 5 country-capital pairs\n",
    "    val countryCapitalMap = Map(\n",
    "      \"USA\" -> \"Washington, D.C.\",\n",
    "      \"France\" -> \"Paris\",\n",
    "      \"Japan\" -> \"Tokyo\",\n",
    "      \"Germany\" -> \"Berlin\",\n",
    "      \"Italy\" -> \"Rome\"\n",
    "    )\n",
    "    \n",
    "    // Define a country to check\n",
    "    val countryToCheck = \"France\"\n",
    "    \n",
    "    // Check if the country exists in the map\n",
    "    countryCapitalMap.get(countryToCheck) match {\n",
    "      case Some(capital) => println(s\"The capital of $countryToCheck is $capital.\")\n",
    "      case None => println(s\"$countryToCheck is not in the map.\")\n",
    "    }\n",
    " \n"
   ]
  },
  {
   "cell_type": "code",
   "execution_count": 17,
   "id": "d16e27c9-ff97-4331-9d5f-9cfdeb1e6922",
   "metadata": {},
   "outputs": [
    {
     "name": "stdout",
     "output_type": "stream",
     "text": [
      "Circle with radius 5.0:\n",
      "  Area: 78.53981633974483\n",
      "  Perimeter: 31.41592653589793\n",
      "Rectangle with width 4.0 and height 6.0:\n",
      "  Area: 24.0\n",
      "  Perimeter: 20.0\n"
     ]
    },
    {
     "data": {
      "text/plain": [
       "defined trait Shape\r\n",
       "defined class Circle\r\n",
       "defined class Rectangle\r\n",
       "circle: Circle = Circle@1e64779\r\n",
       "rectangle: Rectangle = Rectangle@586cd618\r\n"
      ]
     },
     "execution_count": 17,
     "metadata": {},
     "output_type": "execute_result"
    }
   ],
   "source": [
    "// Define the Shape trait with area and perimeter methods\n",
    "trait Shape {\n",
    "  def area(): Double\n",
    "  def perimeter(): Double\n",
    "}\n",
    "\n",
    "// Define the Circle class implementing the Shape trait\n",
    "class Circle(val radius: Double) extends Shape {\n",
    "  // Calculate the area of the circle\n",
    "  override def area(): Double = Math.PI * radius * radius\n",
    "\n",
    "  // Calculate the perimeter (circumference) of the circle\n",
    "  override def perimeter(): Double = 2 * Math.PI * radius\n",
    "}\n",
    "\n",
    "// Define the Rectangle class implementing the Shape trait\n",
    "class Rectangle(val width: Double, val height: Double) extends Shape {\n",
    "  // Calculate the area of the rectangle\n",
    "  override def area(): Double = width * height\n",
    "\n",
    "  // Calculate the perimeter of the rectangle\n",
    "  override def perimeter(): Double = 2 * (width + height)\n",
    "}\n",
    "\n",
    "\n",
    "    // Create a Circle with radius 5\n",
    "    val circle = new Circle(5)\n",
    "    \n",
    "    // Create a Rectangle with width 4 and height 6\n",
    "    val rectangle = new Rectangle(4, 6)\n",
    "    \n",
    "    // Print the area and perimeter of the circle\n",
    "    println(s\"Circle with radius ${circle.radius}:\")\n",
    "    println(f\"  Area: ${circle.area()}\")\n",
    "    println(f\"  Perimeter: ${circle.perimeter()}\")\n",
    "    \n",
    "    // Print the area and perimeter of the rectangle\n",
    "    println(s\"Rectangle with width ${rectangle.width} and height ${rectangle.height}:\")\n",
    "    println(f\"  Area: ${rectangle.area()}\")\n",
    "    println(f\"  Perimeter: ${rectangle.perimeter()}\")\n",
    "  \n"
   ]
  },
  {
   "cell_type": "code",
   "execution_count": 18,
   "id": "e088376f-ee02-41eb-a4b7-4c73fdb97486",
   "metadata": {},
   "outputs": [
    {
     "name": "stdout",
     "output_type": "stream",
     "text": [
      "Dog:\n",
      "The dog barks.\n",
      "The dog runs.\n",
      "Bird:\n",
      "The bird chirps.\n",
      "The bird flies.\n"
     ]
    },
    {
     "data": {
      "text/plain": [
       "defined class Animal\r\n",
       "defined class Dog\r\n",
       "defined class Bird\r\n",
       "dog: Dog = Dog@596322da\r\n",
       "bird: Bird = Bird@44d1cc09\r\n"
      ]
     },
     "execution_count": 18,
     "metadata": {},
     "output_type": "execute_result"
    }
   ],
   "source": [
    "// Define the base class Animal\n",
    "abstract class Animal {\n",
    "  def speak()\n",
    "  def move()\n",
    "}\n",
    "\n",
    "// Define the Dog class inheriting from Animal\n",
    "class Dog extends Animal {\n",
    "  // Override the speak method\n",
    "  override def speak(){\n",
    "    println(\"The dog barks.\")\n",
    "  }\n",
    "\n",
    "  // Override the move method\n",
    "  override def move(){\n",
    "    println(\"The dog runs.\")\n",
    "  }\n",
    "}\n",
    "\n",
    "// Define the Bird class inheriting from Animal\n",
    "class Bird extends Animal {\n",
    "  // Override the speak method\n",
    "  override def speak() {\n",
    "    println(\"The bird chirps.\")\n",
    "  }\n",
    "\n",
    "  // Override the move method\n",
    "  override def move()= {\n",
    "    println(\"The bird flies.\")\n",
    "  }\n",
    "}\n",
    "\n",
    "\n",
    "    // Create instances of Dog and Bird\n",
    "    val dog = new Dog\n",
    "    val bird = new Bird\n",
    "    \n",
    "    // Call speak and move methods on Dog\n",
    "    println(\"Dog:\")\n",
    "    dog.speak()\n",
    "    dog.move()\n",
    "    \n",
    "    // Call speak and move methods on Bird\n",
    "    println(\"Bird:\")\n",
    "    bird.speak()\n",
    "    bird.move()\n",
    " \n"
   ]
  },
  {
   "cell_type": "code",
   "execution_count": 21,
   "id": "8f33367f-4129-40c8-904b-ef7d528ef657",
   "metadata": {},
   "outputs": [
    {
     "name": "stdout",
     "output_type": "stream",
     "text": [
      "Current balance: 500.0.\n",
      "Deposited 150.0. New balance: 650.0.\n",
      "Withdrew 200.0. New balance: 450.0.\n",
      "Insufficient funds.\n",
      "Current balance: 450.0.\n"
     ]
    },
    {
     "data": {
      "text/plain": [
       "defined class BankAccount\r\n",
       "account: BankAccount = BankAccount@3ef0ea26\r\n"
      ]
     },
     "execution_count": 21,
     "metadata": {},
     "output_type": "execute_result"
    }
   ],
   "source": [
    "// Define the BankAccount class\n",
    "class BankAccount(private var accountNumber: String, private var balance: Double) {\n",
    "\n",
    "  // Method to deposit money into the account\n",
    "  def deposit(amount: Double) {\n",
    "    if (amount > 0) {\n",
    "      balance += amount\n",
    "      println(s\"Deposited ${amount}. New balance: ${balance}.\")\n",
    "    } else {\n",
    "      println(\"Deposit amount must be positive.\")\n",
    "    }\n",
    "  }\n",
    "\n",
    "  // Method to withdraw money from the account\n",
    "  def withdraw(amount: Double) {\n",
    "    if (amount > 0) {\n",
    "      if (amount <= balance) {\n",
    "        balance =balance - amount\n",
    "        println(s\"Withdrew ${amount}. New balance: ${balance}.\")\n",
    "      } else {\n",
    "        println(\"Insufficient funds.\")\n",
    "      }\n",
    "    } else {\n",
    "      println(\"Withdrawal amount must be positive.\")\n",
    "    }\n",
    "  }\n",
    "\n",
    "  // Method to display the current balance\n",
    "  def displayBalance(): Unit = {\n",
    "    println(s\"Current balance: ${balance}.\")\n",
    "  }\n",
    "}\n",
    "\n",
    "\n",
    "    // Create an instance of BankAccount\n",
    "    val account = new BankAccount(\"123456789\", 500.00)\n",
    "    \n",
    "    // Display the initial balance\n",
    "    account.displayBalance()\n",
    "    \n",
    "    // Deposit money\n",
    "    account.deposit(150.00)\n",
    "    \n",
    "    // Withdraw money\n",
    "    account.withdraw(200.00)\n",
    "    \n",
    "    // Attempt to withdraw more than the balance\n",
    "    account.withdraw(600.00)\n",
    "    \n",
    "    // Display the final balance\n",
    "    account.displayBalance()\n",
    "  "
   ]
  },
  {
   "cell_type": "code",
   "execution_count": null,
   "id": "cfed1909-7634-484c-b796-dd785c561e4f",
   "metadata": {},
   "outputs": [],
   "source": []
  },
  {
   "cell_type": "code",
   "execution_count": null,
   "id": "f3e35d1d-d011-449f-aebf-243ae5bbaed8",
   "metadata": {},
   "outputs": [],
   "source": []
  }
 ],
 "metadata": {
  "kernelspec": {
   "display_name": "spylon-kernel",
   "language": "scala",
   "name": "spylon-kernel"
  },
  "language_info": {
   "codemirror_mode": "text/x-scala",
   "file_extension": ".scala",
   "help_links": [
    {
     "text": "MetaKernel Magics",
     "url": "https://metakernel.readthedocs.io/en/latest/source/README.html"
    }
   ],
   "mimetype": "text/x-scala",
   "name": "scala",
   "pygments_lexer": "scala",
   "version": "0.4.1"
  }
 },
 "nbformat": 4,
 "nbformat_minor": 5
}
